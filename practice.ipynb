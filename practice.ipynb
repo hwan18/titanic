{
 "cells": [
  {
   "cell_type": "code",
   "execution_count": 12,
   "metadata": {},
   "outputs": [
    {
     "name": "stdout",
     "output_type": "stream",
     "text": [
      "Requirement already satisfied: jupyterlab in c:\\users\\chohw\\anaconda3\\lib\\site-packages (2.2.6)\n",
      "Requirement already satisfied: ipywidgets>=7.5 in c:\\users\\chohw\\anaconda3\\lib\\site-packages (7.5.1)\n",
      "Requirement already satisfied: notebook>=4.3.1 in c:\\users\\chohw\\anaconda3\\lib\\site-packages (from jupyterlab) (6.1.4)\n",
      "Requirement already satisfied: tornado!=6.0.0,!=6.0.1,!=6.0.2 in c:\\users\\chohw\\anaconda3\\lib\\site-packages (from jupyterlab) (6.0.4)\n",
      "Requirement already satisfied: jupyterlab_server<2.0,>=1.1.5 in c:\\users\\chohw\\anaconda3\\lib\\site-packages (from jupyterlab) (1.2.0)\n",
      "Requirement already satisfied: jinja2>=2.10 in c:\\users\\chohw\\anaconda3\\lib\\site-packages (from jupyterlab) (2.11.2)\n",
      "Requirement already satisfied: traitlets>=4.3.1 in c:\\users\\chohw\\anaconda3\\lib\\site-packages (from ipywidgets>=7.5) (5.0.5)\n",
      "Requirement already satisfied: ipykernel>=4.5.1 in c:\\users\\chohw\\anaconda3\\lib\\site-packages (from ipywidgets>=7.5) (5.3.4)\n",
      "Requirement already satisfied: nbformat>=4.2.0 in c:\\users\\chohw\\anaconda3\\lib\\site-packages (from ipywidgets>=7.5) (5.0.8)\n",
      "Requirement already satisfied: ipython>=4.0.0; python_version >= \"3.3\" in c:\\users\\chohw\\anaconda3\\lib\\site-packages (from ipywidgets>=7.5) (7.19.0)\n",
      "Requirement already satisfied: widgetsnbextension~=3.5.0 in c:\\users\\chohw\\anaconda3\\lib\\site-packages (from ipywidgets>=7.5) (3.5.1)\n",
      "Requirement already satisfied: Send2Trash in c:\\users\\chohw\\anaconda3\\lib\\site-packages (from notebook>=4.3.1->jupyterlab) (1.5.0)\n",
      "Requirement already satisfied: argon2-cffi in c:\\users\\chohw\\anaconda3\\lib\\site-packages (from notebook>=4.3.1->jupyterlab) (20.1.0)\n",
      "Requirement already satisfied: jupyter-client>=5.3.4 in c:\\users\\chohw\\anaconda3\\lib\\site-packages (from notebook>=4.3.1->jupyterlab) (6.1.7)\n",
      "Requirement already satisfied: ipython-genutils in c:\\users\\chohw\\anaconda3\\lib\\site-packages (from notebook>=4.3.1->jupyterlab) (0.2.0)\n",
      "Requirement already satisfied: jupyter-core>=4.6.1 in c:\\users\\chohw\\anaconda3\\lib\\site-packages (from notebook>=4.3.1->jupyterlab) (4.6.3)\n",
      "Requirement already satisfied: terminado>=0.8.3 in c:\\users\\chohw\\anaconda3\\lib\\site-packages (from notebook>=4.3.1->jupyterlab) (0.9.1)\n",
      "Requirement already satisfied: prometheus-client in c:\\users\\chohw\\anaconda3\\lib\\site-packages (from notebook>=4.3.1->jupyterlab) (0.8.0)\n",
      "Requirement already satisfied: pyzmq>=17 in c:\\users\\chohw\\anaconda3\\lib\\site-packages (from notebook>=4.3.1->jupyterlab) (19.0.2)\n",
      "Requirement already satisfied: nbconvert in c:\\users\\chohw\\anaconda3\\lib\\site-packages (from notebook>=4.3.1->jupyterlab) (6.0.7)\n",
      "Requirement already satisfied: requests in c:\\users\\chohw\\anaconda3\\lib\\site-packages (from jupyterlab_server<2.0,>=1.1.5->jupyterlab) (2.24.0)\n",
      "Requirement already satisfied: json5 in c:\\users\\chohw\\anaconda3\\lib\\site-packages (from jupyterlab_server<2.0,>=1.1.5->jupyterlab) (0.9.5)\n",
      "Requirement already satisfied: jsonschema>=3.0.1 in c:\\users\\chohw\\anaconda3\\lib\\site-packages (from jupyterlab_server<2.0,>=1.1.5->jupyterlab) (3.2.0)\n",
      "Requirement already satisfied: MarkupSafe>=0.23 in c:\\users\\chohw\\anaconda3\\lib\\site-packages (from jinja2>=2.10->jupyterlab) (1.1.1)\n",
      "Requirement already satisfied: backcall in c:\\users\\chohw\\anaconda3\\lib\\site-packages (from ipython>=4.0.0; python_version >= \"3.3\"->ipywidgets>=7.5) (0.2.0)\n",
      "Requirement already satisfied: pygments in c:\\users\\chohw\\anaconda3\\lib\\site-packages (from ipython>=4.0.0; python_version >= \"3.3\"->ipywidgets>=7.5) (2.7.2)\n",
      "Requirement already satisfied: jedi>=0.10 in c:\\users\\chohw\\anaconda3\\lib\\site-packages (from ipython>=4.0.0; python_version >= \"3.3\"->ipywidgets>=7.5) (0.17.1)\n",
      "Requirement already satisfied: colorama; sys_platform == \"win32\" in c:\\users\\chohw\\anaconda3\\lib\\site-packages (from ipython>=4.0.0; python_version >= \"3.3\"->ipywidgets>=7.5) (0.4.4)\n",
      "Requirement already satisfied: setuptools>=18.5 in c:\\users\\chohw\\anaconda3\\lib\\site-packages (from ipython>=4.0.0; python_version >= \"3.3\"->ipywidgets>=7.5) (50.3.1.post20201107)\n",
      "Requirement already satisfied: decorator in c:\\users\\chohw\\anaconda3\\lib\\site-packages (from ipython>=4.0.0; python_version >= \"3.3\"->ipywidgets>=7.5) (4.4.2)\n",
      "Requirement already satisfied: prompt-toolkit!=3.0.0,!=3.0.1,<3.1.0,>=2.0.0 in c:\\users\\chohw\\anaconda3\\lib\\site-packages (from ipython>=4.0.0; python_version >= \"3.3\"->ipywidgets>=7.5) (3.0.8)\n",
      "Requirement already satisfied: pickleshare in c:\\users\\chohw\\anaconda3\\lib\\site-packages (from ipython>=4.0.0; python_version >= \"3.3\"->ipywidgets>=7.5) (0.7.5)\n",
      "Requirement already satisfied: six in c:\\users\\chohw\\anaconda3\\lib\\site-packages (from argon2-cffi->notebook>=4.3.1->jupyterlab) (1.15.0)\n",
      "Requirement already satisfied: cffi>=1.0.0 in c:\\users\\chohw\\anaconda3\\lib\\site-packages (from argon2-cffi->notebook>=4.3.1->jupyterlab) (1.14.3)\n",
      "Requirement already satisfied: python-dateutil>=2.1 in c:\\users\\chohw\\anaconda3\\lib\\site-packages (from jupyter-client>=5.3.4->notebook>=4.3.1->jupyterlab) (2.8.1)\n",
      "Requirement already satisfied: pywin32>=1.0; sys_platform == \"win32\" in c:\\users\\chohw\\anaconda3\\lib\\site-packages (from jupyter-core>=4.6.1->notebook>=4.3.1->jupyterlab) (227)\n",
      "Requirement already satisfied: pywinpty>=0.5 in c:\\users\\chohw\\anaconda3\\lib\\site-packages (from terminado>=0.8.3->notebook>=4.3.1->jupyterlab) (0.5.7)\n",
      "Requirement already satisfied: testpath in c:\\users\\chohw\\anaconda3\\lib\\site-packages (from nbconvert->notebook>=4.3.1->jupyterlab) (0.4.4)\n",
      "Requirement already satisfied: entrypoints>=0.2.2 in c:\\users\\chohw\\anaconda3\\lib\\site-packages (from nbconvert->notebook>=4.3.1->jupyterlab) (0.3)\n",
      "Requirement already satisfied: jupyterlab-pygments in c:\\users\\chohw\\anaconda3\\lib\\site-packages (from nbconvert->notebook>=4.3.1->jupyterlab) (0.1.2)\n",
      "Requirement already satisfied: bleach in c:\\users\\chohw\\anaconda3\\lib\\site-packages (from nbconvert->notebook>=4.3.1->jupyterlab) (3.2.1)\n",
      "Requirement already satisfied: mistune<2,>=0.8.1 in c:\\users\\chohw\\anaconda3\\lib\\site-packages (from nbconvert->notebook>=4.3.1->jupyterlab) (0.8.4)\n",
      "Requirement already satisfied: pandocfilters>=1.4.1 in c:\\users\\chohw\\anaconda3\\lib\\site-packages (from nbconvert->notebook>=4.3.1->jupyterlab) (1.4.3)\n",
      "Requirement already satisfied: nbclient<0.6.0,>=0.5.0 in c:\\users\\chohw\\anaconda3\\lib\\site-packages (from nbconvert->notebook>=4.3.1->jupyterlab) (0.5.1)\n",
      "Requirement already satisfied: defusedxml in c:\\users\\chohw\\anaconda3\\lib\\site-packages (from nbconvert->notebook>=4.3.1->jupyterlab) (0.6.0)\n",
      "Requirement already satisfied: chardet<4,>=3.0.2 in c:\\users\\chohw\\anaconda3\\lib\\site-packages (from requests->jupyterlab_server<2.0,>=1.1.5->jupyterlab) (3.0.4)\n",
      "Requirement already satisfied: idna<3,>=2.5 in c:\\users\\chohw\\anaconda3\\lib\\site-packages (from requests->jupyterlab_server<2.0,>=1.1.5->jupyterlab) (2.10)\n",
      "Requirement already satisfied: urllib3!=1.25.0,!=1.25.1,<1.26,>=1.21.1 in c:\\users\\chohw\\anaconda3\\lib\\site-packages (from requests->jupyterlab_server<2.0,>=1.1.5->jupyterlab) (1.25.11)\n",
      "Requirement already satisfied: certifi>=2017.4.17 in c:\\users\\chohw\\anaconda3\\lib\\site-packages (from requests->jupyterlab_server<2.0,>=1.1.5->jupyterlab) (2020.6.20)\n",
      "Requirement already satisfied: attrs>=17.4.0 in c:\\users\\chohw\\anaconda3\\lib\\site-packages (from jsonschema>=3.0.1->jupyterlab_server<2.0,>=1.1.5->jupyterlab) (20.3.0)\n",
      "Requirement already satisfied: pyrsistent>=0.14.0 in c:\\users\\chohw\\anaconda3\\lib\\site-packages (from jsonschema>=3.0.1->jupyterlab_server<2.0,>=1.1.5->jupyterlab) (0.17.3)\n",
      "Requirement already satisfied: parso<0.8.0,>=0.7.0 in c:\\users\\chohw\\anaconda3\\lib\\site-packages (from jedi>=0.10->ipython>=4.0.0; python_version >= \"3.3\"->ipywidgets>=7.5) (0.7.0)\n",
      "Requirement already satisfied: wcwidth in c:\\users\\chohw\\anaconda3\\lib\\site-packages (from prompt-toolkit!=3.0.0,!=3.0.1,<3.1.0,>=2.0.0->ipython>=4.0.0; python_version >= \"3.3\"->ipywidgets>=7.5) (0.2.5)\n",
      "Requirement already satisfied: pycparser in c:\\users\\chohw\\anaconda3\\lib\\site-packages (from cffi>=1.0.0->argon2-cffi->notebook>=4.3.1->jupyterlab) (2.20)\n",
      "Requirement already satisfied: packaging in c:\\users\\chohw\\anaconda3\\lib\\site-packages (from bleach->nbconvert->notebook>=4.3.1->jupyterlab) (20.4)\n",
      "Requirement already satisfied: webencodings in c:\\users\\chohw\\anaconda3\\lib\\site-packages (from bleach->nbconvert->notebook>=4.3.1->jupyterlab) (0.5.1)\n",
      "Requirement already satisfied: async-generator in c:\\users\\chohw\\anaconda3\\lib\\site-packages (from nbclient<0.6.0,>=0.5.0->nbconvert->notebook>=4.3.1->jupyterlab) (1.10)\n",
      "Requirement already satisfied: nest-asyncio in c:\\users\\chohw\\anaconda3\\lib\\site-packages (from nbclient<0.6.0,>=0.5.0->nbconvert->notebook>=4.3.1->jupyterlab) (1.4.2)\n",
      "Requirement already satisfied: pyparsing>=2.0.2 in c:\\users\\chohw\\anaconda3\\lib\\site-packages (from packaging->bleach->nbconvert->notebook>=4.3.1->jupyterlab) (2.4.7)\n"
     ]
    }
   ],
   "source": [
    "!pip install jupyterlab \"ipywidgets>=7.5\""
   ]
  },
  {
   "cell_type": "code",
   "execution_count": 13,
   "metadata": {},
   "outputs": [
    {
     "ename": "SyntaxError",
     "evalue": "invalid syntax (<ipython-input-13-c7e75f6f987b>, line 11)",
     "output_type": "error",
     "traceback": [
      "\u001b[1;36m  File \u001b[1;32m\"<ipython-input-13-c7e75f6f987b>\"\u001b[1;36m, line \u001b[1;32m11\u001b[0m\n\u001b[1;33m    jupyter labextension install jupyterlab-plotly@4.14.3\u001b[0m\n\u001b[1;37m            ^\u001b[0m\n\u001b[1;31mSyntaxError\u001b[0m\u001b[1;31m:\u001b[0m invalid syntax\n"
     ]
    }
   ],
   "source": [
    "#import necessary libraries for analysis\n",
    "\n",
    "import pandas as pd\n",
    "import numpy as np\n",
    "import seaborn as sns\n",
    "import matplotlib.pyplot as plt\n",
    "\n",
    "%matplotlib inline\n",
    "\n",
    "# JupyterLab renderer support\n",
    "jupyter labextension install jupyterlab-plotly@4.14.3\n",
    "\n",
    "# OPTIONAL: Jupyter widgets extension\n",
    "jupyter labextension install @jupyter-widgets/jupyterlab-manager plotlywidget@4.14.3"
   ]
  },
  {
   "cell_type": "code",
   "execution_count": null,
   "metadata": {},
   "outputs": [],
   "source": []
  }
 ],
 "metadata": {
  "kernelspec": {
   "display_name": "Python 3",
   "language": "python",
   "name": "python3"
  },
  "language_info": {
   "codemirror_mode": {
    "name": "ipython",
    "version": 3
   },
   "file_extension": ".py",
   "mimetype": "text/x-python",
   "name": "python",
   "nbconvert_exporter": "python",
   "pygments_lexer": "ipython3",
   "version": "3.7.10"
  }
 },
 "nbformat": 4,
 "nbformat_minor": 4
}
